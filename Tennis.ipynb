{
 "cells": [
  {
   "cell_type": "markdown",
   "metadata": {},
   "source": [
    "# Collaboration and Competition\n",
    "\n",
    "---\n",
    "\n",
    "You are welcome to use this coding environment to train your agent for the project.  Follow the instructions below to get started!\n",
    "\n",
    "### 1. Start the Environment\n",
    "\n",
    "Run the next code cell to install a few packages.  This line will take a few minutes to run!"
   ]
  },
  {
   "cell_type": "code",
   "execution_count": 1,
   "metadata": {},
   "outputs": [
    {
     "name": "stdout",
     "output_type": "stream",
     "text": [
      "\u001b[31mmlagents 0.4.0 has requirement protobuf<3.7,>=3.6, but you'll have protobuf 3.5.2 which is incompatible.\u001b[0m\n",
      "\u001b[33mYou are using pip version 10.0.1, however version 18.1 is available.\n",
      "You should consider upgrading via the 'pip install --upgrade pip' command.\u001b[0m\n"
     ]
    }
   ],
   "source": [
    "!pip -q install ./python"
   ]
  },
  {
   "cell_type": "markdown",
   "metadata": {},
   "source": [
    "The environment is already saved in the Workspace and can be accessed at the file path provided below. "
   ]
  },
  {
   "cell_type": "code",
   "execution_count": 2,
   "metadata": {},
   "outputs": [
    {
     "name": "stdout",
     "output_type": "stream",
     "text": [
      "3.6.6\n"
     ]
    }
   ],
   "source": [
    "import platform\n",
    " \n",
    "print(platform.python_version())"
   ]
  },
  {
   "cell_type": "code",
   "execution_count": 3,
   "metadata": {
    "scrolled": true
   },
   "outputs": [
    {
     "name": "stderr",
     "output_type": "stream",
     "text": [
      "INFO:unityagents:\n",
      "'Academy' started successfully!\n",
      "Unity Academy name: Academy\n",
      "        Number of Brains: 1\n",
      "        Number of External Brains : 1\n",
      "        Lesson number : 0\n",
      "        Reset Parameters :\n",
      "\t\t\n",
      "Unity brain name: TennisBrain\n",
      "        Number of Visual Observations (per agent): 0\n",
      "        Vector Observation space type: continuous\n",
      "        Vector Observation space size (per agent): 8\n",
      "        Number of stacked Vector Observation: 3\n",
      "        Vector Action space type: continuous\n",
      "        Vector Action space size (per agent): 2\n",
      "        Vector Action descriptions: , \n"
     ]
    }
   ],
   "source": [
    "from unityagents import UnityEnvironment\n",
    "import numpy as np\n",
    "\n",
    "env = UnityEnvironment(file_name=\"Tennis_Linux_NoVis/Tennis.x86_64\")"
   ]
  },
  {
   "cell_type": "markdown",
   "metadata": {},
   "source": [
    "Environments contain **_brains_** which are responsible for deciding the actions of their associated agents. Here we check for the first brain available, and set it as the default brain we will be controlling from Python."
   ]
  },
  {
   "cell_type": "code",
   "execution_count": 4,
   "metadata": {},
   "outputs": [],
   "source": [
    "# get the default brain\n",
    "brain_name = env.brain_names[0]\n",
    "brain = env.brains[brain_name]"
   ]
  },
  {
   "cell_type": "markdown",
   "metadata": {},
   "source": [
    "### 2. Examine the State and Action Spaces\n",
    "\n",
    "Run the code cell below to print some information about the environment."
   ]
  },
  {
   "cell_type": "code",
   "execution_count": 5,
   "metadata": {},
   "outputs": [
    {
     "name": "stdout",
     "output_type": "stream",
     "text": [
      "Number of agents: 2\n",
      "Size of each action: 2\n",
      "There are 2 agents. Each observes a state with length: 24\n",
      "The state for the first agent looks like: [ 0.          0.          0.          0.          0.          0.\n",
      "  0.          0.          0.          0.          0.          0.\n",
      "  0.          0.          0.          0.         -6.65278625 -1.5\n",
      " -0.          0.          6.83172083  6.         -0.          0.        ]\n"
     ]
    }
   ],
   "source": [
    "# reset the environment\n",
    "env_info = env.reset(train_mode=True)[brain_name]\n",
    "\n",
    "# number of agents \n",
    "num_agents = len(env_info.agents)\n",
    "print('Number of agents:', num_agents)\n",
    "\n",
    "# size of each action\n",
    "action_size = brain.vector_action_space_size\n",
    "print('Size of each action:', action_size)\n",
    "\n",
    "# examine the state space \n",
    "states = env_info.vector_observations\n",
    "state_size = states.shape[1]\n",
    "print('There are {} agents. Each observes a state with length: {}'.format(states.shape[0], state_size))\n",
    "print('The state for the first agent looks like:', states[0])"
   ]
  },
  {
   "cell_type": "markdown",
   "metadata": {},
   "source": [
    "### 3. Take Random Actions in the Environment\n",
    "\n",
    "In the next code cell, you will learn how to use the Python API to control the agent and receive feedback from the environment.\n",
    "\n",
    "Note that **in this coding environment, you will not be able to watch the agents while they are training**, and you should set `train_mode=True` to restart the environment."
   ]
  },
  {
   "cell_type": "code",
   "execution_count": 6,
   "metadata": {},
   "outputs": [
    {
     "name": "stdout",
     "output_type": "stream",
     "text": [
      "Total score (averaged over agents) this episode: -0.004999999888241291\n",
      "Total score (averaged over agents) this episode: 0.04500000085681677\n",
      "Total score (averaged over agents) this episode: -0.004999999888241291\n",
      "Total score (averaged over agents) this episode: 0.04500000085681677\n",
      "Total score (averaged over agents) this episode: -0.004999999888241291\n"
     ]
    }
   ],
   "source": [
    "for i in range(5):                                         # play game for 5 episodes\n",
    "    env_info = env.reset(train_mode=False)[brain_name]     # reset the environment    \n",
    "    states = env_info.vector_observations                  # get the current state (for each agent)\n",
    "    scores = np.zeros(num_agents)                          # initialize the score (for each agent)\n",
    "    while True:\n",
    "        actions = np.random.randn(num_agents, action_size) # select an action (for each agent)\n",
    "        actions = np.clip(actions, -1, 1)                  # all actions between -1 and 1\n",
    "        env_info = env.step(actions)[brain_name]           # send all actions to tne environment\n",
    "        next_states = env_info.vector_observations         # get next state (for each agent)\n",
    "        rewards = env_info.rewards                         # get reward (for each agent)\n",
    "        dones = env_info.local_done                        # see if episode finished\n",
    "        scores += env_info.rewards                         # update the score (for each agent)\n",
    "        states = next_states                               # roll over states to next time step\n",
    "        if np.any(dones):                                  # exit loop if episode finished\n",
    "            break\n",
    "    print('Total score (averaged over agents) this episode: {}'.format(np.mean(scores)))"
   ]
  },
  {
   "cell_type": "markdown",
   "metadata": {},
   "source": [
    "When finished, you can close the environment."
   ]
  },
  {
   "cell_type": "code",
   "execution_count": 7,
   "metadata": {},
   "outputs": [],
   "source": [
    "#env.close()"
   ]
  },
  {
   "cell_type": "markdown",
   "metadata": {},
   "source": [
    "### 4. It's Your Turn!\n",
    "\n",
    "Now it's your turn to train your own agent to solve the environment!  A few **important notes**:\n",
    "- When training the environment, set `train_mode=True`, so that the line for resetting the environment looks like the following:\n",
    "```python\n",
    "env_info = env.reset(train_mode=True)[brain_name]\n",
    "```\n",
    "- To structure your work, you're welcome to work directly in this Jupyter notebook, or you might like to start over with a new file!  You can see the list of files in the workspace by clicking on **_Jupyter_** in the top left corner of the notebook.\n",
    "- In this coding environment, you will not be able to watch the agents while they are training.  However, **_after training the agents_**, you can download the saved model weights to watch the agents on your own machine! "
   ]
  },
  {
   "cell_type": "code",
   "execution_count": 8,
   "metadata": {},
   "outputs": [],
   "source": [
    "import torch\n",
    "from maddpg import MADDPG\n",
    "from collections import deque\n",
    "import matplotlib.pyplot as plt\n",
    "import time\n",
    "from utilities import transpose_list, transpose_to_tensor\n",
    "import os\n",
    "from replay_buffer import ReplayBuffer\n",
    "\n",
    "%matplotlib inline"
   ]
  },
  {
   "cell_type": "code",
   "execution_count": 9,
   "metadata": {},
   "outputs": [],
   "source": [
    "def marl_runner(brain_name, n_episode=1000, episode_length=500, noise=1, noise_reduction=0.9999, goal_score=0.5, is_train_mode=True):\n",
    "    max_score_for_episode_across_agents = []\n",
    "    scores_deque = deque(maxlen=100)\n",
    "    min_scores = []\n",
    "    max_scores = []\n",
    "    moving_average = []\n",
    "    \n",
    "    buffer_length = int(100*episode_length)\n",
    "    batchsize = 500\n",
    "    buffer = ReplayBuffer(buffer_length, seed = 2)\n",
    "    \n",
    "    episode_per_update = 2\n",
    "    save_every_x_episode = 10\n",
    "    episodes_before_train = 0\n",
    "    model_dir= os.getcwd()+\"/model_dir\"\n",
    "    \n",
    "    #Get the agent instance\n",
    "    maddpg_agent = MADDPG(episodes_before_train=episodes_before_train, batch_size=batchsize, replay_buffer=buffer)\n",
    "    agent0_reward = []\n",
    "    agent1_reward = []\n",
    "    \n",
    "    #Training loop\n",
    "    for episode_no in range (1, n_episode):\n",
    "        maddpg_agent.reset()\n",
    "        begin_time = time.time()\n",
    "        score_current_episode = np.zeros(num_agents)\n",
    "        \n",
    "        env_info = env.reset(train_mode=is_train_mode)[brain_name]\n",
    "        obs = env_info.vector_observations\n",
    "        scores = np.zeros(num_agents)\n",
    "        \n",
    "        for episode_timestep in range(episode_length):\n",
    "            actions = maddpg_agent.act(obs, noise=noise)\n",
    "            noise *= noise_reduction\n",
    "        \n",
    "            env_info = env.step(actions)[brain_name]  \n",
    "        \n",
    "            next_obs = env_info.vector_observations\n",
    "\n",
    "            rewards = env_info.rewards\n",
    "            dones = env_info.local_done\n",
    "            # add data to buffer\n",
    "            maddpg_agent.step(episode_no, obs, actions, rewards, next_obs, dones)\n",
    "            obs = next_obs\n",
    "            score_current_episode += rewards\n",
    "            \n",
    "        agent0_reward.append(score_current_episode[0])\n",
    "        agent1_reward.append(score_current_episode[1])\n",
    "        \n",
    "        max_score_for_episode_across_agents.append(np.max(score_current_episode))\n",
    "        scores_deque.append(np.max(score_current_episode))\n",
    "        moving_average.append(np.mean(max_score_for_episode_across_agents))\n",
    "        mean_score_agents = np.mean(scores_deque)\n",
    "        \n",
    "        print('\\rEpisode {}\\tAverage Score: {:.2f}'.format(episode_no, mean_score_agents))\n",
    "        \n",
    "        if episode_no % 100 == save_every_x_episode or episode_no == n_episode - 1:\n",
    "            save_dict_list = []\n",
    "            for i in range(num_agents):\n",
    "                save_dict = {'actor_params' : maddpg_agent.maddpg_agent[i].actor.state_dict(),\n",
    "                             'actor_optim_params': maddpg_agent.maddpg_agent[i].actor_optimizer.state_dict(),\n",
    "                             'critic_params' : maddpg_agent.maddpg_agent[i].critic.state_dict(),\n",
    "                             'critic_optim_params' : maddpg_agent.maddpg_agent[i].critic_optimizer.state_dict()}\n",
    "                save_dict_list.append(save_dict)\n",
    "\n",
    "                torch.save(save_dict_list, os.path.join(model_dir, 'episode-{}.pth'.format(episode_no)))\n",
    "                print('\\rEpisode {}\\tAverage Score: {:.2f}'.format(episode_no, mean_score_agents))\n",
    "            \n",
    "        if mean_score_agents >= goal_score and episode_no >= 100:\n",
    "            save_dict_list = []\n",
    "            for i in range(num_agents):\n",
    "                save_dict = {'actor_params' : maddpg_agent.maddpg_agent[i].actor.state_dict(),\n",
    "                             'actor_optim_params': maddpg_agent.maddpg_agent[i].actor_optimizer.state_dict(),\n",
    "                             'critic_params' : maddpg_agent.maddpg_agent[i].critic.state_dict(),\n",
    "                             'critic_optim_params' : maddpg_agent.maddpg_agent[i].critic_optimizer.state_dict()}\n",
    "                save_dict_list.append(save_dict)\n",
    "            torch.save(save_dict_list, os.path.join(model_dir, 'episode-{}.pth'.format(episode_no)))\n",
    "            print('\\nEnvironment solved in {:d} episodes!\\tAverage Score: {:.2f}'.format(episode_no-100, mean_score_agents))\n",
    "            break\n",
    "            \n",
    "    return max_score_for_episode_across_agents, moving_average"
   ]
  },
  {
   "cell_type": "code",
   "execution_count": 11,
   "metadata": {
    "scrolled": false
   },
   "outputs": [
    {
     "name": "stderr",
     "output_type": "stream",
     "text": [
      "/home/ubuntu/anaconda3/envs/pytorch_p36/lib/python3.6/site-packages/torch/nn/functional.py:1320: UserWarning: nn.functional.tanh is deprecated. Use torch.tanh instead.\n",
      "  warnings.warn(\"nn.functional.tanh is deprecated. Use torch.tanh instead.\")\n"
     ]
    },
    {
     "name": "stdout",
     "output_type": "stream",
     "text": [
      "Episode 1\tAverage Score: -0.03\n",
      "Episode 2\tAverage Score: -0.03\n",
      "Episode 3\tAverage Score: 0.02\n",
      "Episode 4\tAverage Score: 0.14\n",
      "Episode 5\tAverage Score: 0.15\n",
      "Episode 6\tAverage Score: 0.17\n",
      "Episode 7\tAverage Score: 0.18\n",
      "Episode 8\tAverage Score: 0.22\n",
      "Episode 9\tAverage Score: 0.25\n",
      "Episode 10\tAverage Score: 0.30\n",
      "Episode 10\tAverage Score: 0.30\n",
      "Episode 10\tAverage Score: 0.30\n",
      "Episode 11\tAverage Score: 0.35\n",
      "Episode 12\tAverage Score: 0.40\n",
      "Episode 13\tAverage Score: 0.44\n",
      "Episode 14\tAverage Score: 0.45\n",
      "Episode 15\tAverage Score: 0.46\n",
      "Episode 16\tAverage Score: 0.48\n",
      "Episode 17\tAverage Score: 0.49\n",
      "Episode 18\tAverage Score: 0.50\n",
      "Episode 19\tAverage Score: 0.48\n",
      "Episode 20\tAverage Score: 0.47\n",
      "Episode 21\tAverage Score: 0.44\n",
      "Episode 22\tAverage Score: 0.46\n",
      "Episode 23\tAverage Score: 0.49\n",
      "Episode 24\tAverage Score: 0.52\n",
      "Episode 25\tAverage Score: 0.53\n",
      "Episode 26\tAverage Score: 0.54\n",
      "Episode 27\tAverage Score: 0.57\n",
      "Episode 28\tAverage Score: 0.58\n",
      "Episode 29\tAverage Score: 0.60\n",
      "Episode 30\tAverage Score: 0.61\n",
      "Episode 31\tAverage Score: 0.63\n",
      "Episode 32\tAverage Score: 0.63\n",
      "Episode 33\tAverage Score: 0.64\n",
      "Episode 34\tAverage Score: 0.65\n",
      "Episode 35\tAverage Score: 0.65\n",
      "Episode 36\tAverage Score: 0.66\n",
      "Episode 37\tAverage Score: 0.67\n",
      "Episode 38\tAverage Score: 0.67\n",
      "Episode 39\tAverage Score: 0.68\n",
      "Episode 40\tAverage Score: 0.67\n",
      "Episode 41\tAverage Score: 0.68\n",
      "Episode 42\tAverage Score: 0.68\n",
      "Episode 43\tAverage Score: 0.69\n",
      "Episode 44\tAverage Score: 0.70\n",
      "Episode 45\tAverage Score: 0.71\n",
      "Episode 46\tAverage Score: 0.71\n",
      "Episode 47\tAverage Score: 0.72\n",
      "Episode 48\tAverage Score: 0.72\n",
      "Episode 49\tAverage Score: 0.73\n",
      "Episode 50\tAverage Score: 0.73\n",
      "Episode 51\tAverage Score: 0.74\n",
      "Episode 52\tAverage Score: 0.74\n",
      "Episode 53\tAverage Score: 0.74\n",
      "Episode 54\tAverage Score: 0.74\n",
      "Episode 55\tAverage Score: 0.74\n",
      "Episode 56\tAverage Score: 0.75\n",
      "Episode 57\tAverage Score: 0.75\n",
      "Episode 58\tAverage Score: 0.76\n",
      "Episode 59\tAverage Score: 0.76\n",
      "Episode 60\tAverage Score: 0.77\n",
      "Episode 61\tAverage Score: 0.77\n",
      "Episode 62\tAverage Score: 0.78\n",
      "Episode 63\tAverage Score: 0.78\n",
      "Episode 64\tAverage Score: 0.78\n",
      "Episode 65\tAverage Score: 0.78\n",
      "Episode 66\tAverage Score: 0.78\n",
      "Episode 67\tAverage Score: 0.78\n",
      "Episode 68\tAverage Score: 0.79\n",
      "Episode 69\tAverage Score: 0.78\n",
      "Episode 70\tAverage Score: 0.78\n",
      "Episode 71\tAverage Score: 0.79\n",
      "Episode 72\tAverage Score: 0.78\n",
      "Episode 73\tAverage Score: 0.78\n",
      "Episode 74\tAverage Score: 0.78\n",
      "Episode 75\tAverage Score: 0.78\n",
      "Episode 76\tAverage Score: 0.78\n",
      "Episode 77\tAverage Score: 0.79\n",
      "Episode 78\tAverage Score: 0.79\n",
      "Episode 79\tAverage Score: 0.79\n",
      "Episode 80\tAverage Score: 0.79\n",
      "Episode 81\tAverage Score: 0.80\n",
      "Episode 82\tAverage Score: 0.80\n",
      "Episode 83\tAverage Score: 0.80\n",
      "Episode 84\tAverage Score: 0.80\n",
      "Episode 85\tAverage Score: 0.81\n",
      "Episode 86\tAverage Score: 0.81\n",
      "Episode 87\tAverage Score: 0.80\n",
      "Episode 88\tAverage Score: 0.80\n",
      "Episode 89\tAverage Score: 0.80\n",
      "Episode 90\tAverage Score: 0.80\n",
      "Episode 91\tAverage Score: 0.80\n",
      "Episode 92\tAverage Score: 0.80\n",
      "Episode 93\tAverage Score: 0.80\n",
      "Episode 94\tAverage Score: 0.80\n",
      "Episode 95\tAverage Score: 0.80\n",
      "Episode 96\tAverage Score: 0.79\n",
      "Episode 97\tAverage Score: 0.80\n",
      "Episode 98\tAverage Score: 0.79\n",
      "Episode 99\tAverage Score: 0.80\n",
      "Episode 100\tAverage Score: 0.79\n",
      "\n",
      "Environment solved in 0 episodes!\tAverage Score: 0.79\n"
     ]
    }
   ],
   "source": [
    "max_score_for_episode_across_agents, moving_average = marl_runner(brain_name)"
   ]
  },
  {
   "cell_type": "code",
   "execution_count": 15,
   "metadata": {},
   "outputs": [
    {
     "data": {
      "image/png": "[encoded data removed]",
      "text/plain": [
       "<Figure size 432x288 with 1 Axes>"
      ]
     },
     "metadata": {},
     "output_type": "display_data"
    }
   ],
   "source": [
    "#Plot the scores\n",
    "fig = plt.figure()\n",
    "axes = fig.add_subplot(111)\n",
    "plt.plot(np.arange(len(max_score_for_episode_across_agents)), max_score_for_episode_across_agents, c='g', label='MADDPG')\n",
    "plt.plot(np.arange(len(max_score_for_episode_across_agents)), moving_average, c='r', label='Moving avg')\n",
    "plt.ylabel('Score')\n",
    "plt.xlabel('Episode #')\n",
    "plt.legend(loc='upper left')\n",
    "plt.show()"
   ]
  },
  {
   "cell_type": "code",
   "execution_count": 16,
   "metadata": {},
   "outputs": [
    {
     "data": {
      "image/png": "[encoded data removed]",
      "text/plain": [
       "<Figure size 432x288 with 1 Axes>"
      ]
     },
     "metadata": {},
     "output_type": "display_data"
    }
   ],
   "source": [
    "#Plot the moving average vs episodes\n",
    "fig = plt.figure()\n",
    "axes = fig.add_subplot(111)\n",
    "plt.plot(np.arange(len(max_score_for_episode_across_agents)), moving_average, c='r', label='Moving avg')\n",
    "plt.ylabel('Score')\n",
    "plt.xlabel('Episode #')\n",
    "plt.legend(loc='upper left')\n",
    "plt.show()"
   ]
  },
  {
   "cell_type": "code",
   "execution_count": null,
   "metadata": {},
   "outputs": [],
   "source": []
  },
  {
   "cell_type": "code",
   "execution_count": null,
   "metadata": {},
   "outputs": [],
   "source": []
  },
  {
   "cell_type": "code",
   "execution_count": null,
   "metadata": {},
   "outputs": [],
   "source": []
  },
  {
   "cell_type": "code",
   "execution_count": null,
   "metadata": {},
   "outputs": [],
   "source": []
  }
 ],
 "metadata": {
  "kernelspec": {
   "display_name": "Python [conda env:pytorch_p36]",
   "language": "python",
   "name": "conda-env-pytorch_p36-py"
  },
  "language_info": {
   "codemirror_mode": {
    "name": "ipython",
    "version": 3
   },
   "file_extension": ".py",
   "mimetype": "text/x-python",
   "name": "python",
   "nbconvert_exporter": "python",
   "pygments_lexer": "ipython3",
   "version": "3.6.6"
  }
 },
 "nbformat": 4,
 "nbformat_minor": 2
}
